{
 "cells": [
  {
   "cell_type": "markdown",
   "metadata": {},
   "source": [
    "# Deep learning model\n",
    "In this notebook, various deep learning classifiers will be trained to correctly classify spectrograms of gait data corresponding to one of three neuro-degenerative diseases or healthy (control) subjects."
   ]
  },
  {
   "cell_type": "markdown",
   "metadata": {},
   "source": [
    "## Setup"
   ]
  },
  {
   "cell_type": "code",
   "execution_count": 30,
   "metadata": {},
   "outputs": [],
   "source": [
    "import os\n",
    "import numpy as np\n",
    "import matplotlib.pyplot as plt\n",
    "import tensorflow as tf\n",
    "from sklearn.metrics import confusion_matrix\n",
    "from sklearn.model_selection import train_test_split\n",
    "import itertools\n",
    "\n",
    "# had to change to tensorflow's keras implementation\n",
    "from tensorflow.keras.models import Sequential\n",
    "from tensorflow.keras.layers import Dense, Dropout, Flatten, Conv2D, MaxPooling2D, ZeroPadding2D\n",
    "from tensorflow.keras import optimizers\n",
    "from tensorflow.keras import initializers\n",
    "\n",
    "import tensorflow.keras.backend as K\n",
    "\n",
    "%matplotlib inline"
   ]
  },
  {
   "cell_type": "markdown",
   "metadata": {},
   "source": [
    "## Data\n",
    "The dataset is imported from the corresponding directory. Each example consists of a $h \\times w$ matrix, which corresponds to the spectrogram generated from the original signals (unlike with RGB images the inputs have only one channel).\n",
    "\n",
    "The $m$ data points will be divided into a set for training and a set for validation (for hyperparameter tuning and model selection) following a 80/20 split."
   ]
  },
  {
   "cell_type": "code",
   "execution_count": 10,
   "metadata": {},
   "outputs": [],
   "source": [
    "rootdir = os.pardir\n",
    "in_dir = os.path.join(rootdir, 'data/processed')\n",
    "\n",
    "train_data = np.load(os.path.join(in_dir, 'train.npz'))\n",
    "test_data = np.load(os.path.join(in_dir, 'test.npz'))\n",
    "\n",
    "X_orig = train_data['X_train']\n",
    "Y_orig = train_data['Y_train']\n",
    "X_test_orig = test_data['X_test']\n",
    "Y_test_orig = test_data['Y_test']\n",
    "\n",
    "X_orig = X_orig.reshape(X_orig.shape[0], X_orig.shape[1],\n",
    "                        X_orig.shape[2], 1)\n",
    "X_test_orig = X_test_orig.reshape(X_test_orig.shape[0], X_test_orig.shape[1],\n",
    "                        X_test_orig.shape[2], 1)\n",
    "\n",
    "X_train_orig, X_dev_orig, Y_train_orig, Y_dev_orig = train_test_split(\n",
    "    X_orig, Y_orig, random_state=1, test_size=0.20) # random state -> seed to always keep the same split"
   ]
  },
  {
   "cell_type": "code",
   "execution_count": 11,
   "metadata": {},
   "outputs": [
    {
     "name": "stdout",
     "output_type": "stream",
     "text": [
      "(833, 11, 34, 1)\n",
      "(833, 1)\n",
      "(209, 11, 34, 1)\n",
      "(209, 1)\n"
     ]
    }
   ],
   "source": [
    "# check dimensions\n",
    "print(X_train_orig.shape)\n",
    "print(Y_train_orig.shape)\n",
    "print(X_dev_orig.shape)\n",
    "print(Y_dev_orig.shape)"
   ]
  },
  {
   "cell_type": "code",
   "execution_count": 12,
   "metadata": {},
   "outputs": [],
   "source": [
    "# normalize inputs - maybe other way?? by batch?\n",
    "X_train = (X_train_orig - X_train_orig.mean()) / X_train_orig.std()\n",
    "X_dev = (X_dev_orig - X_dev_orig.mean()) / X_dev_orig.std()\n",
    "\n",
    "Y_train = Y_train_orig\n",
    "Y_dev = Y_dev_orig"
   ]
  },
  {
   "cell_type": "markdown",
   "metadata": {},
   "source": [
    "## Classifiers\n",
    "\n",
    "### One classifier per class\n",
    "In order to reduce the number of parameters (weights) that will have to be trained, a classifier for each class will be trained, in a one-vs-all approach."
   ]
  },
  {
   "cell_type": "markdown",
   "metadata": {},
   "source": [
    "### Convolutional Neural Networks and other approaches\n",
    "As a first approach, the candidate classifiers will be convolutional neural networks that input a 1-channel image (or matrix), which corresponds to the spectrogram calculated in previous steps.\n",
    "\n",
    "Other possible approaches that could be taken could be\n",
    "* Two-dimensional 2-channel Convolutional Neural Networks that input, as a single example, bothe left and right channels' spectrograms\n",
    "* One-dimensional 1-channel Convolutional Neural Networks that input segments of the raw gait sensor signal (from either a left or a right foot sensor)\n",
    "* One-dimensional 2-channel Convolutional Neural Networks that input both left and right channels' raw sensor data\n",
    "\n",
    "*Note: The approaches described above could also benefit from Transfer Learning given the small size of the dataset*\n",
    "\n",
    "Further, the data processing steps could be modified to acomodate for example:\n",
    "* Finer segmentation of original records, which woulld generate more training examples\n",
    "* Different parameters for time-frequency processing (spectrogram generation)"
   ]
  },
  {
   "cell_type": "markdown",
   "metadata": {},
   "source": [
    "### Hyperparameters\n",
    "Many hyperparameters can be considered in the selection of a model. In this notebook, only the CNN **architecture** will be explored.\n",
    "\n",
    "Other aspects such as initialization of weights, optimization algorithms or activation functions will be fixed, as explained below:\n",
    "\n",
    "1. **Initialization**: weights will be initialized using He initialization and bias parameters will be initialized to zeros.\n",
    "2. **Loss function**: the loss function will be the engative log-likelihood (which is the same as the binary cross-entropy).\n",
    "3. **Optimization algorithm**: the weights will be updated using Adam.\n",
    "4. The **activation function**: ReLU will be used for all layers except for the output unit (sigmoid)\n",
    "5. The **learning rate**: although it is one of the most important hyperparameters to tune, for now it has been set to 0.0001\n",
    "6. **Dropout** rates have been set to 0 (no dropout at all) in all layers\n",
    "7. The number of **epochs** used for training has also been fixed at 200\n",
    "8. The **batch size** will be set to 128 traning examples\n",
    "\n",
    "In further work, some of these hypeparameters (namely the leraning rate, droput rates number of epochs and batch size) will be evaluated."
   ]
  },
  {
   "cell_type": "markdown",
   "metadata": {},
   "source": [
    "### Proposed CNN architectures\n",
    "Different Convolutional architectures will be trained. Given the small amount of data, which could easily lead to overfitting, these networks are particularly reduced in terms of number of parameters.\n",
    "\n",
    "The architectures are described below using the following convention:\n",
    "\n",
    "```\n",
    "CONV -- convolutional layer\n",
    "    n -- number of filters or kernels\n",
    "    f -- size of filters\n",
    "    s -- stride in each dimension\n",
    "    pad -- padding in each dimension\n",
    "\n",
    "MAXPOOL -- maxpooling layer\n",
    "    (f1, f2) -- window size, which is equal to the stride\n",
    "\n",
    "FC -- fully connected or dense layer\n",
    "\n",
    "sigmoid -- refers to a single unit layer (the output layer) with the sigmoid activation function\n",
    "\n",
    "```"
   ]
  },
  {
   "cell_type": "markdown",
   "metadata": {},
   "source": [
    "| Architecture | Layer 1                                       | Layer 2        | Layer 3                                        | Layer 4        | Layer 5 | Layer 6 | Layer 7 |\n",
    "|--------------|-----------------------------------------------|----------------|------------------------------------------------|----------------|---------|---------|---------|\n",
    "| CNN_1A       | CONV (n=2; f=(1, 3); s=(1, 1); pad=(0, 1)) | MAXPOOL (1, 3) | CONV (n=2; f=(3, 3); s=(2, 2); pad=(1, 1))  | MAXPOOL (3, 3) | Flatten | FC (12) | sigmoid |\n",
    "| CNN_1B       | CONV (n=2; f=(1, 3); s=(1, 1); pad=(0, 1)) | MAXPOOL (1, 3) | CONV (n=4; f=(3, 3); s=(2, 2); pad=(1, 1))  | MAXPOOL (3, 3) | Flatten | FC (20) | sigmoid |\n",
    "| CNN_1C       | CONV (n=8; f=(1, 3); s=(1, 1); pad=(0, 1)) | MAXPOOL (1, 3) | CONV (n=16; f=(3, 3); s=(2, 2); pad=(1, 1)) | MAXPOOL (3, 3) | Flatten | FC (96) | sigmoid |\n",
    "| CNN_2A       | CONV (n=2; f=(2, 3); s=(1, 1); pad=(0, 1)) | MAXPOOL (2, 2) | CONV (n=2; f=(3, 3); s=(2, 2); pad=(0, 0))  | MAXPOOL (2, 2) | Flatten | FC (12) | sigmoid |\n",
    "| CNN_2B       | CONV (n=2; f=(1, 3); s=(1, 1); pad=(0, 1)) | MAXPOOL (1, 3) | CONV (n=4; f=(3, 3); s=(2, 2); pad=(0, 0))  | MAXPOOL (2, 2) | Flatten | FC (20) | sigmoid |"
   ]
  },
  {
   "cell_type": "code",
   "execution_count": 17,
   "metadata": {},
   "outputs": [],
   "source": [
    "# these models dont seem to work well!\n",
    "def get_CNN_1A(dropout_rate_conv, dropout_rate_dense):\n",
    "    \"\"\"\n",
    "    The function defines the CNN_1A model\n",
    "    \n",
    "    Arguments:\n",
    "    dropout_rate_conv -- hyperparameter controlling the dropout rate\n",
    "        for conv layers\n",
    "    dropout_rate_dense -- hyperparameter controlling the dropout rate\n",
    "        for dense (fully connected) layers\n",
    "    \n",
    "    Returns:\n",
    "    model -- keras model\n",
    "    \"\"\"\n",
    "    model = Sequential()\n",
    "    \n",
    "    model.add(ZeroPadding2D(padding=(0, 1), input_shape=(11, 34, 1)))\n",
    "    model.add(Conv2D(2, (1, 3), strides=(1, 1),\n",
    "                     activation='relu', use_bias=True,\n",
    "                    kernel_initializer='glorot_normal', bias_initializer='zeros'))\n",
    "    model.add(MaxPooling2D(pool_size=(1, 3))) # last column being dropped\n",
    "    model.add(Dropout(dropout_rate_conv))\n",
    "    \n",
    "    model.add(ZeroPadding2D(padding=(1, 1)))\n",
    "    model.add(Conv2D(2, (3, 3), strides=(2, 2),\n",
    "                    activation='relu', use_bias=True,\n",
    "                    kernel_initializer='glorot_normal', bias_initializer='zeros'))\n",
    "    model.add(MaxPooling2D(pool_size=(3, 3)))\n",
    "    model.add(Dropout(dropout_rate_conv))\n",
    "    \n",
    "    model.add(Flatten())\n",
    "    model.add(Dense(12, activation='relu'))\n",
    "    model.add(Dropout(dropout_rate_dense))\n",
    "    model.add(Dense(1, activation='sigmoid'))\n",
    "    \n",
    "    return model\n",
    "\n",
    "def get_CNN_1B(dropout_rate_conv, dropout_rate_dense):\n",
    "    \"\"\"\n",
    "    The function defines the CNN_1B model\n",
    "    \n",
    "    Arguments:\n",
    "    dropout_rate_conv -- hyperparameter controlling the dropout rate\n",
    "        for conv layers\n",
    "    dropout_rate_dense -- hyperparameter controlling the dropout rate\n",
    "        for dense (fully connected) layers\n",
    "    \n",
    "    Returns:\n",
    "    model -- keras model\n",
    "    \"\"\"\n",
    "    model = Sequential()\n",
    "    \n",
    "    model.add(ZeroPadding2D(padding=(0, 1), input_shape=(11, 34, 1)))\n",
    "    model.add(Conv2D(2, (1, 3), strides=(1, 1),\n",
    "                     activation='relu', use_bias=True,\n",
    "                    kernel_initializer='glorot_normal', bias_initializer='zeros'))\n",
    "    model.add(MaxPooling2D(pool_size=(1, 3)))\n",
    "    model.add(Dropout(dropout_rate_conv))\n",
    "    \n",
    "    model.add(ZeroPadding2D(padding=(1, 1)))\n",
    "    model.add(Conv2D(4, (3, 3), strides=(2, 2),\n",
    "                    activation='relu', use_bias=True,\n",
    "                    kernel_initializer='glorot_normal', bias_initializer='zeros'))\n",
    "    model.add(MaxPooling2D(pool_size=(3, 3)))\n",
    "    model.add(Dropout(dropout_rate_conv))\n",
    "    \n",
    "    model.add(Flatten())\n",
    "    model.add(Dense(20, activation='relu'))\n",
    "    model.add(Dropout(dropout_rate_dense))\n",
    "    model.add(Dense(1, activation='sigmoid'))\n",
    "    \n",
    "    return model\n",
    "\n",
    "def get_CNN_2A(dropout_rate_conv, dropout_rate_dense):\n",
    "    \"\"\"\n",
    "    The function defines the CNN_2A model\n",
    "    \n",
    "    Arguments:\n",
    "    dropout_rate_conv -- hyperparameter controlling the dropout rate\n",
    "        for conv layers\n",
    "    dropout_rate_dense -- hyperparameter controlling the dropout rate\n",
    "        for dense (fully connected) layers\n",
    "    \n",
    "    Returns:\n",
    "    model -- keras model\n",
    "    \"\"\"\n",
    "    model = Sequential()\n",
    "    \n",
    "    model.add(ZeroPadding2D(padding=(0, 1), input_shape=(11, 34, 1)))\n",
    "    model.add(Conv2D(2, (2, 3), strides=(1, 1),\n",
    "                     activation='relu', use_bias=True,\n",
    "                    kernel_initializer='glorot_normal', bias_initializer='zeros'))\n",
    "    model.add(MaxPooling2D(pool_size=(2, 2)))\n",
    "    model.add(Dropout(dropout_rate_conv))\n",
    "    \n",
    "    model.add(Conv2D(2, (3, 3), strides=(2, 2),\n",
    "                    activation='relu', use_bias=True,\n",
    "                    kernel_initializer='glorot_normal', bias_initializer='zeros'))\n",
    "    model.add(MaxPooling2D(pool_size=(2, 2)))\n",
    "    model.add(Dropout(dropout_rate_conv))\n",
    "    \n",
    "    model.add(Flatten())\n",
    "    model.add(Dense(12, activation='relu'))\n",
    "    model.add(Dropout(dropout_rate_dense))\n",
    "    model.add(Dense(1, activation='sigmoid'))\n",
    "    \n",
    "    return model\n",
    "\n",
    "\n",
    "def get_CNN_2B(dropout_rate_conv, dropout_rate_dense):\n",
    "    \"\"\"\n",
    "    The function defines the CNN_2A model\n",
    "    \n",
    "    Arguments:\n",
    "    dropout_rate_conv -- hyperparameter controlling the dropout rate\n",
    "        for conv layers\n",
    "    dropout_rate_dense -- hyperparameter controlling the dropout rate\n",
    "        for dense (fully connected) layers\n",
    "    \n",
    "    Returns:\n",
    "    model -- keras model\n",
    "    \"\"\"\n",
    "    model = Sequential()\n",
    "    \n",
    "    model.add(ZeroPadding2D(padding=(0, 1), input_shape=(11, 34, 1)))\n",
    "    model.add(Conv2D(2, (2, 3), strides=(1, 1),\n",
    "                     activation='relu', use_bias=True,\n",
    "                    kernel_initializer='glorot_normal', bias_initializer='zeros'))\n",
    "    model.add(MaxPooling2D(pool_size=(2, 2)))\n",
    "    model.add(Dropout(dropout_rate_conv))\n",
    "    \n",
    "    model.add(Conv2D(4, (3, 3), strides=(2, 2),\n",
    "                    activation='relu', use_bias=True,\n",
    "                    kernel_initializer='glorot_normal', bias_initializer='zeros'))\n",
    "    model.add(MaxPooling2D(pool_size=(2, 2)))\n",
    "    model.add(Dropout(dropout_rate_conv))\n",
    "    \n",
    "    model.add(Flatten())\n",
    "    model.add(Dense(20, activation='relu'))\n",
    "    model.add(Dropout(dropout_rate_dense))\n",
    "    model.add(Dense(1, activation='sigmoid'))\n",
    "    \n",
    "    return model"
   ]
  },
  {
   "cell_type": "code",
   "execution_count": 18,
   "metadata": {},
   "outputs": [],
   "source": [
    "def get_CNN_1C(dropout_rate_conv, dropout_rate_dense):\n",
    "    \"\"\"\n",
    "    The function defines the CNN_1C model\n",
    "    \n",
    "    Arguments:\n",
    "    dropout_rate_conv -- hyperparameter controlling the dropout rate\n",
    "        for conv layers\n",
    "    dropout_rate_dense -- hyperparameter controlling the dropout rate\n",
    "        for dense (fully connected) layers\n",
    "    \n",
    "    Returns:\n",
    "    model -- keras model\n",
    "    \"\"\"\n",
    "    model = Sequential()\n",
    "    \n",
    "    model.add(ZeroPadding2D(padding=(0, 1), input_shape=(11, 34, 1)))\n",
    "    model.add(Conv2D(8, (1, 3), strides=(1, 1),\n",
    "                     activation='relu', use_bias=True,\n",
    "                    kernel_initializer='glorot_normal', bias_initializer='zeros'))\n",
    "    model.add(MaxPooling2D(pool_size=(1, 3))) # last column being dropped\n",
    "    model.add(Dropout(dropout_rate_conv))\n",
    "    \n",
    "    model.add(ZeroPadding2D(padding=(1, 1)))\n",
    "    model.add(Conv2D(16, (3, 3), strides=(2, 2),\n",
    "                    activation='relu', use_bias=True,\n",
    "                    kernel_initializer='glorot_normal', bias_initializer='zeros'))\n",
    "    model.add(MaxPooling2D(pool_size=(3, 3)))\n",
    "    model.add(Dropout(dropout_rate_conv))\n",
    "    \n",
    "    model.add(Flatten())\n",
    "    model.add(Dense(96, activation='relu'))\n",
    "    model.add(Dropout(dropout_rate_dense))\n",
    "    model.add(Dense(1, activation='sigmoid'))\n",
    "    \n",
    "    return model"
   ]
  },
  {
   "cell_type": "markdown",
   "metadata": {},
   "source": [
    "A function to get the optimizer (Adam) with a given learning rate is also defined."
   ]
  },
  {
   "cell_type": "code",
   "execution_count": 19,
   "metadata": {},
   "outputs": [],
   "source": [
    "def get_optimizer(learning_rate):\n",
    "    optimizer = optimizers.Adam(lr=learning_rate) # could use lr decay\n",
    "    return optimizer"
   ]
  },
  {
   "cell_type": "markdown",
   "metadata": {},
   "source": [
    "### Performance metrics\n",
    "\n",
    "Various metrics will be evaluated when training each possible model, namely:\n",
    "\n",
    "- Accuracy\n",
    "- Precision\n",
    "- Recall\n",
    "- F1 Score\n",
    "\n",
    "as well as the loss on the training and validation data.\n",
    "\n",
    "Precision, recall and F1-score depend on the **threshold** we set, that is:\n",
    "```\n",
    "if p(y == class | model, x) > threshold ---> predict class\n",
    "```\n",
    "\n",
    "(at the moment the threshold is 0.5).\n",
    "\n",
    "For now, the evaluated metric will be loss on the validation set, since accuracy is not a reliable measure of model performance due to class imbalance and the goals regarding precision and recall have not been defined yet."
   ]
  },
  {
   "cell_type": "code",
   "execution_count": 20,
   "metadata": {},
   "outputs": [],
   "source": [
    "# metrics need to be defined according to Keras' standards\n",
    "# using the backend (tensorflow) tensor operations\n",
    "def precision(y_true, y_pred):\n",
    "    \"\"\"Precision metric.\n",
    "    \"\"\"\n",
    "    true_positives = K.sum(K.round(K.clip(y_true * y_pred, 0, 1)))\n",
    "    predicted_positives = K.sum(K.round(K.clip(y_pred, 0, 1)))\n",
    "    precision = true_positives / (predicted_positives + K.epsilon())\n",
    "    return precision\n",
    "\n",
    "\n",
    "def recall(y_true, y_pred):\n",
    "    \"\"\"Recall metric.\n",
    "    \"\"\"\n",
    "    true_positives = K.sum(K.round(K.clip(y_true * y_pred, 0, 1)))\n",
    "    total_positives = K.sum(K.round(K.clip(y_true, 0, 1)))\n",
    "    recall = true_positives / (total_positives + K.epsilon())\n",
    "    return recall\n",
    "\n",
    "\n",
    "def f1_score(y_true, y_pred):\n",
    "    \"\"\"Computes the F score.\n",
    "    The F score is the weighted harmonic mean of precision and recall.\n",
    "    \"\"\"\n",
    "    # If there are no true positives, fix the F score at 0 like sklearn.\n",
    "    if K.sum(K.round(K.clip(y_true, 0, 1))) == 0:\n",
    "        return 0\n",
    "\n",
    "    p = precision(y_true, y_pred)\n",
    "    r = recall(y_true, y_pred)\n",
    "    f1_score = 2 * (p * r) / (p + r + K.epsilon())\n",
    "    return f1_score"
   ]
  },
  {
   "cell_type": "code",
   "execution_count": 21,
   "metadata": {},
   "outputs": [],
   "source": [
    "custom_metrics = ['accuracy', precision, recall, f1_score] # which one to use to evaluate model? accuracy or f1-score?"
   ]
  },
  {
   "cell_type": "markdown",
   "metadata": {},
   "source": [
    "## Label redefinition\n",
    "Since one classifier per class will be built, the original labels need to be converted to binary labels in each case"
   ]
  },
  {
   "cell_type": "code",
   "execution_count": 22,
   "metadata": {},
   "outputs": [],
   "source": [
    "# redefinition of labels depending on each case\n",
    "def redefine_labels(Y, target_class):\n",
    "    \"\"\"\n",
    "    Transforms a K-labelled vector into a binary label vector. If Y[i] is equal to target_class\n",
    "        then Y_binary[i] is 1. Otherwise, Y[i] is 0\n",
    "    \n",
    "    Arguments\n",
    "    Y -- A (m, 1) NumPy array of labels ranging from 0 to (K - 1) with K being the number of classes\n",
    "    target_class -- Integer indicating the target class\n",
    "    \n",
    "    Returns\n",
    "    Y_binary -- A binary labelled (0 or 1) NumPy array of the same shape as Y\n",
    "    \"\"\"\n",
    "    \n",
    "    Y_binary = (Y == target_class).astype(int)\n",
    "    return Y_binary"
   ]
  },
  {
   "cell_type": "markdown",
   "metadata": {},
   "source": [
    "## Training and model evaluation"
   ]
  },
  {
   "cell_type": "code",
   "execution_count": 23,
   "metadata": {},
   "outputs": [],
   "source": [
    "def plot_losses(losses):\n",
    "    fig = plt.figure()\n",
    "    ax = plt.axes()\n",
    "    ax.set_xlabel('epochs')\n",
    "    ax.set_ylabel('loss')\n",
    "    plt.plot(np.arange(1, len(losses)+1), losses)\n",
    "    return None"
   ]
  },
  {
   "cell_type": "code",
   "execution_count": 24,
   "metadata": {},
   "outputs": [],
   "source": [
    "def train_model(hyperparameters, custom_metrics, X_train, Y_train, X_dev, Y_dev):\n",
    "    \n",
    "    # get hparams\n",
    "    learning_rate = hyperparameters['lr']\n",
    "    dropout_conv_rate = hyperparameters['dropout_conv']\n",
    "    dropout_dense_rate = hyperparameters['dropout_dense']\n",
    "    n_epochs = hyperparameters['epochs']\n",
    "    get_model = hyperparameters['architecture'][1]\n",
    "\n",
    "    # build model\n",
    "    model = get_model(dropout_conv_rate, dropout_dense_rate)\n",
    "    optimizer = get_optimizer(learning_rate)\n",
    "    model.compile(optimizer=optimizer,\n",
    "                 metrics=custom_metrics,\n",
    "                 loss='binary_crossentropy')\n",
    "    \n",
    "    # train model\n",
    "    history = model.fit(X_train, Y_train, batch_size=128, epochs=n_epochs,\n",
    "              validation_data=(X_dev, Y_dev))\n",
    "    \n",
    "    # plot losses\n",
    "    plot_losses(history.history['loss'])\n",
    "\n",
    "    return model, history"
   ]
  },
  {
   "cell_type": "code",
   "execution_count": 1,
   "metadata": {},
   "outputs": [],
   "source": [
    "# hyperparameters will be stored in a dict\n",
    "hyperparameters = dict()"
   ]
  },
  {
   "cell_type": "markdown",
   "metadata": {},
   "source": [
    "### Save models and history dictionaries\n",
    "Since training can be costly it is a good idea to save the trained models as well as the evolution of metrics during training."
   ]
  },
  {
   "cell_type": "code",
   "execution_count": 26,
   "metadata": {},
   "outputs": [],
   "source": [
    "import time\n",
    "import pickle\n",
    "\n",
    "def save_model_and_history(model, history, hyperparameters, name):\n",
    "    rootdir = os.pardir\n",
    "    out_dir = os.path.join(rootdir, 'trained_models')\n",
    "    stamp = time.strftime('%Y%m%d-%H%M%S')\n",
    "    \n",
    "    # save model architecture and weigths\n",
    "    model_path = os.path.join(out_dir, name + '.h5')\n",
    "    model.save(model_path)\n",
    "    \n",
    "    # save history\n",
    "    history_dict = history.history\n",
    "    with open(os.path.join(out_dir, '_'.join([name, 'hist.pickle'])), 'wb') as handle:\n",
    "        pickle.dump(history_dict, handle, protocol=pickle.HIGHEST_PROTOCOL)\n",
    "    \n",
    "    # save hyperparameters\n",
    "    with open(os.path.join(out_dir, '_'.join([name, 'hparams.pickle'])), 'wb') as handle:\n",
    "        pickle.dump(hyperparameters,  handle, protocol=pickle.HIGHEST_PROTOCOL)\n",
    "    \n",
    "    return None"
   ]
  },
  {
   "cell_type": "markdown",
   "metadata": {},
   "source": [
    "### ALS classifier\n",
    "Let's start with the classifier that distinguishes ALS records from the rest.\n",
    "\n",
    "Only two architectures will be compared below: architecture CNN_1A and CNN_1C, since architectures 1A, 1B, 2A and 2B gave similar (poor) performances. The same approach will be taken for the rest of the classifiers."
   ]
  },
  {
   "cell_type": "code",
   "execution_count": 39,
   "metadata": {},
   "outputs": [],
   "source": [
    "disease = 'ALS'"
   ]
  },
  {
   "cell_type": "code",
   "execution_count": 40,
   "metadata": {},
   "outputs": [],
   "source": [
    "Y_train_als = redefine_labels(Y_train, 1)\n",
    "Y_dev_als = redefine_labels(Y_dev, 1)"
   ]
  },
  {
   "cell_type": "code",
   "execution_count": null,
   "metadata": {},
   "outputs": [],
   "source": [
    "hyperparameters['architecture'] = ('1A', get_CNN_1A)\n",
    "hyperparameters['lr'] = 0.0001\n",
    "hyperparameters['dropout_conv'] = 0\n",
    "hyperparameters['dropout_dense'] = 0\n",
    "hyperparameters['epochs'] = 200\n",
    "\n",
    "model, history = train_model(hyperparameters, custom_metrics,\n",
    "                             X_train, Y_train_als, X_dev, Y_dev_als)\n",
    "\n",
    "name = '_'.join([disease, hyperparameters['architecture'][0]])\n",
    "\n",
    "save_model_and_history(model, history, hyperparameters, name)\n",
    "\n",
    "model_1A = model\n",
    "history_1A = history.history"
   ]
  },
  {
   "cell_type": "code",
   "execution_count": null,
   "metadata": {},
   "outputs": [],
   "source": [
    "hyperparameters['architecture'] = ('1C', get_CNN_1C)\n",
    "hyperparameters['lr'] = 0.0001\n",
    "hyperparameters['dropout_conv'] = 0\n",
    "hyperparameters['dropout_dense'] = 0\n",
    "hyperparameters['epochs'] = 200\n",
    "\n",
    "model, history = train_model(hyperparameters, custom_metrics,\n",
    "                             X_train, Y_train_als, X_dev, Y_dev_als)\n",
    "\n",
    "name = '_'.join([disease, hyperparameters['architecture'][0]])\n",
    "\n",
    "save_model_and_history(model, history, hyperparameters, name)\n",
    "\n",
    "model_1C = model\n",
    "history_1C = history.history"
   ]
  },
  {
   "cell_type": "code",
   "execution_count": 43,
   "metadata": {},
   "outputs": [
    {
     "data": {
      "text/plain": [
       "<matplotlib.legend.Legend at 0x7f7f802c4da0>"
      ]
     },
     "execution_count": 43,
     "metadata": {},
     "output_type": "execute_result"
    },
    {
     "data": {
      "image/png": "[encoded data removed]",
      "text/plain": [
       "<Figure size 864x576 with 1 Axes>"
      ]
     },
     "metadata": {
      "needs_background": "light"
     },
     "output_type": "display_data"
    }
   ],
   "source": [
    "fig = plt.figure(figsize=(12, 8))\n",
    "ax = plt.axes()\n",
    "ax.set_xlabel('epochs')\n",
    "ax.set_ylabel('loss')\n",
    "plt.grid()\n",
    "\n",
    "ax.plot(history_1A['val_loss'], label=disease+'_1A')\n",
    "ax.plot(history_1C['val_loss'], label=disease+'_1C')\n",
    "\n",
    "ax.legend()"
   ]
  },
  {
   "cell_type": "markdown",
   "metadata": {},
   "source": [
    "### Huntington's disease classifier"
   ]
  },
  {
   "cell_type": "code",
   "execution_count": 31,
   "metadata": {},
   "outputs": [],
   "source": [
    "disease = 'hunt'"
   ]
  },
  {
   "cell_type": "code",
   "execution_count": 32,
   "metadata": {},
   "outputs": [],
   "source": [
    "Y_train_hunt = redefine_labels(Y_train, 2)\n",
    "Y_dev_hunt = redefine_labels(Y_dev, 2)"
   ]
  },
  {
   "cell_type": "code",
   "execution_count": null,
   "metadata": {},
   "outputs": [],
   "source": [
    "hyperparameters['architecture'] = ('1A', get_CNN_1A)\n",
    "hyperparameters['lr'] = 0.0001\n",
    "hyperparameters['dropout_conv'] = 0\n",
    "hyperparameters['dropout_dense'] = 0\n",
    "hyperparameters['epochs'] = 200\n",
    "\n",
    "model, history = train_model(hyperparameters, custom_metrics,\n",
    "                             X_train, Y_train_hunt, X_dev, Y_dev_hunt)\n",
    "\n",
    "name = '_'.join([disease, hyperparameters['architecture'][0]])\n",
    "\n",
    "save_model_and_history(model, history, hyperparameters, name)\n",
    "\n",
    "model_1A = model\n",
    "history_1A = history.history"
   ]
  },
  {
   "cell_type": "code",
   "execution_count": null,
   "metadata": {},
   "outputs": [],
   "source": [
    "hyperparameters['architecture'] = ('1C', get_CNN_1C)\n",
    "hyperparameters['lr'] = 0.0001\n",
    "hyperparameters['dropout_conv'] = 0\n",
    "hyperparameters['dropout_dense'] = 0\n",
    "hyperparameters['epochs'] = 200\n",
    "\n",
    "model, history = train_model(hyperparameters, custom_metrics,\n",
    "                             X_train, Y_train_hunt, X_dev, Y_dev_hunt)\n",
    "\n",
    "name = '_'.join([disease, hyperparameters['architecture'][0]])\n",
    "\n",
    "save_model_and_history(model, history, hyperparameters, name)\n",
    "\n",
    "model_1C = model\n",
    "history_1C = history.history"
   ]
  },
  {
   "cell_type": "code",
   "execution_count": 35,
   "metadata": {},
   "outputs": [
    {
     "data": {
      "text/plain": [
       "<matplotlib.legend.Legend at 0x7f1ad0131b70>"
      ]
     },
     "execution_count": 35,
     "metadata": {},
     "output_type": "execute_result"
    },
    {
     "data": {
      "image/png": "[encoded data removed]",
      "text/plain": [
       "<Figure size 864x576 with 1 Axes>"
      ]
     },
     "metadata": {
      "needs_background": "light"
     },
     "output_type": "display_data"
    }
   ],
   "source": [
    "fig = plt.figure(figsize=(12, 8))\n",
    "ax = plt.axes()\n",
    "ax.set_xlabel('epochs')\n",
    "ax.set_ylabel('loss')\n",
    "plt.grid()\n",
    "\n",
    "ax.plot(history_1A['val_loss'], label=disease+'_1A')\n",
    "ax.plot(history_1C['val_loss'], label=disease+'_1C')\n",
    "\n",
    "ax.legend()"
   ]
  },
  {
   "cell_type": "markdown",
   "metadata": {},
   "source": [
    "### Parkinson's disease classifier"
   ]
  },
  {
   "cell_type": "code",
   "execution_count": 41,
   "metadata": {},
   "outputs": [],
   "source": [
    "disease = 'park'"
   ]
  },
  {
   "cell_type": "code",
   "execution_count": 42,
   "metadata": {},
   "outputs": [],
   "source": [
    "Y_train_park = redefine_labels(Y_train, 3)\n",
    "Y_dev_park = redefine_labels(Y_dev, 3)"
   ]
  },
  {
   "cell_type": "code",
   "execution_count": null,
   "metadata": {},
   "outputs": [],
   "source": [
    "hyperparameters['architecture'] = ('1A', get_CNN_1A)\n",
    "hyperparameters['lr'] = 0.0001\n",
    "hyperparameters['dropout_conv'] = 0\n",
    "hyperparameters['dropout_dense'] = 0\n",
    "hyperparameters['epochs'] = 200\n",
    "\n",
    "model, history = train_model(hyperparameters, custom_metrics,\n",
    "                             X_train, Y_train_park, X_dev, Y_dev_park)\n",
    "\n",
    "name = '_'.join([disease, hyperparameters['architecture'][0]])\n",
    "\n",
    "save_model_and_history(model, history, hyperparameters, name)\n",
    "\n",
    "model_1A = model\n",
    "history_1A = history.history"
   ]
  },
  {
   "cell_type": "code",
   "execution_count": null,
   "metadata": {},
   "outputs": [],
   "source": [
    "hyperparameters['architecture'] = ('1C', get_CNN_1C)\n",
    "hyperparameters['lr'] = 0.0001\n",
    "hyperparameters['dropout_conv'] = 0\n",
    "hyperparameters['dropout_dense'] = 0\n",
    "hyperparameters['epochs'] = 200\n",
    "\n",
    "model, history = train_model(hyperparameters, custom_metrics,\n",
    "                             X_train, Y_train_park, X_dev, Y_dev_park)\n",
    "\n",
    "name = '_'.join([disease, hyperparameters['architecture'][0]])\n",
    "\n",
    "save_model_and_history(model, history, hyperparameters, name)\n",
    "\n",
    "model_1C = model\n",
    "history_1C = history.history"
   ]
  },
  {
   "cell_type": "code",
   "execution_count": 45,
   "metadata": {},
   "outputs": [
    {
     "data": {
      "text/plain": [
       "<matplotlib.legend.Legend at 0x7f197a450f60>"
      ]
     },
     "execution_count": 45,
     "metadata": {},
     "output_type": "execute_result"
    },
    {
     "data": {
      "image/png": "[encoded data removed]",
      "text/plain": [
       "<Figure size 864x576 with 1 Axes>"
      ]
     },
     "metadata": {
      "needs_background": "light"
     },
     "output_type": "display_data"
    }
   ],
   "source": [
    "fig = plt.figure(figsize=(12, 8))\n",
    "ax = plt.axes()\n",
    "ax.set_xlabel('epochs')\n",
    "ax.set_ylabel('loss')\n",
    "plt.grid()\n",
    "\n",
    "ax.plot(history_1A['val_loss'], label=disease+'_1A')\n",
    "ax.plot(history_1C['val_loss'], label=disease+'_1C')\n",
    "\n",
    "ax.legend()"
   ]
  },
  {
   "cell_type": "markdown",
   "metadata": {},
   "source": [
    "### Control subject classifier"
   ]
  },
  {
   "cell_type": "code",
   "execution_count": 52,
   "metadata": {},
   "outputs": [],
   "source": [
    "disease = 'control'"
   ]
  },
  {
   "cell_type": "code",
   "execution_count": 53,
   "metadata": {},
   "outputs": [],
   "source": [
    "Y_train_control = redefine_labels(Y_train, 0)\n",
    "Y_dev_control = redefine_labels(Y_dev, 0)"
   ]
  },
  {
   "cell_type": "code",
   "execution_count": null,
   "metadata": {},
   "outputs": [],
   "source": [
    "hyperparameters['architecture'] = ('1A', get_CNN_1A)\n",
    "hyperparameters['lr'] = 0.0001\n",
    "hyperparameters['dropout_conv'] = 0\n",
    "hyperparameters['dropout_dense'] = 0\n",
    "hyperparameters['epochs'] = 200\n",
    "\n",
    "model, history = train_model(hyperparameters, custom_metrics,\n",
    "                             X_train, Y_train_control, X_dev, Y_dev_control)\n",
    "\n",
    "name = '_'.join([disease, hyperparameters['architecture'][0]])\n",
    "\n",
    "save_model_and_history(model, history, hyperparameters, name)\n",
    "\n",
    "model_1A = model\n",
    "history_1A = history.history"
   ]
  },
  {
   "cell_type": "code",
   "execution_count": null,
   "metadata": {},
   "outputs": [],
   "source": [
    "hyperparameters['architecture'] = ('1C', get_CNN_1C)\n",
    "hyperparameters['lr'] = 0.0001\n",
    "hyperparameters['dropout_conv'] = 0\n",
    "hyperparameters['dropout_dense'] = 0\n",
    "hyperparameters['epochs'] = 200\n",
    "\n",
    "model, history = train_model(hyperparameters, custom_metrics,\n",
    "                             X_train, Y_train_control, X_dev, Y_dev_control)\n",
    "\n",
    "name = '_'.join([disease, hyperparameters['architecture'][0]])\n",
    "\n",
    "save_model_and_history(model, history, hyperparameters, name)\n",
    "\n",
    "model_1C = model\n",
    "history_1c = history.history"
   ]
  },
  {
   "cell_type": "code",
   "execution_count": 56,
   "metadata": {},
   "outputs": [
    {
     "data": {
      "text/plain": [
       "<matplotlib.legend.Legend at 0x7f1963db8400>"
      ]
     },
     "execution_count": 56,
     "metadata": {},
     "output_type": "execute_result"
    },
    {
     "data": {
      "image/png": "[encoded data removed]",
      "text/plain": [
       "<Figure size 864x576 with 1 Axes>"
      ]
     },
     "metadata": {
      "needs_background": "light"
     },
     "output_type": "display_data"
    }
   ],
   "source": [
    "fig = plt.figure(figsize=(12, 8))\n",
    "ax = plt.axes()\n",
    "ax.set_xlabel('epochs')\n",
    "ax.set_ylabel('loss')\n",
    "plt.grid()\n",
    "\n",
    "ax.plot(history_1A['val_loss'], label=disease+'_1A')\n",
    "ax.plot(history_1C['val_loss'], label=disease+'_1C')\n",
    "\n",
    "ax.legend()"
   ]
  },
  {
   "cell_type": "markdown",
   "metadata": {},
   "source": [
    "The CNN_1A models yield zero precision and recall. These models predict every example as a negative, which, due to class imbalance, gives accuracies in the order of 80%, a misleading figure. These models completely fail to predict the target class.\n",
    "\n",
    "The CNN_1B models show some improvement. Precision and recall are not zero anymore, although they are still far from ideal. The validation loss is, in all 4 cases, significantly lower than the validation loss with the CNN_1A models.\n",
    "\n",
    "Thus, the more complicated model seems to yield better results (lower loss) on the validation set. More complex models can lead to overfitting, specially with a small training set. In this case not only the loss on the train set is reduced but also the loss on the dev (validation) set, and the precision and recall obtained seem to indicate that we are far from overfitting.\n",
    "\n",
    "*Note: Could there be a risk of overfitting the dev set? The data in the dev set pertains to the same individuals in the train set. The segments in train and dev set might be too similar, resulting in the models overfitting to certain individuals, while failing to predict correctly on previously unseen individuals.*"
   ]
  },
  {
   "cell_type": "markdown",
   "metadata": {},
   "source": [
    "***\n",
    "## Conclusions\n",
    "\n",
    "Some initial models (Convolutional Neural Networks) for gait data classification were defined, trained, evaluated and compared. In general, the performance of the models with higher number of filters in the convolutional layers is better. However, the results for these models in all four classification tasks (ALS, hunt, park and control) still yield low precision and, specially, low recall (for a predicition threshold of 0.5).\n",
    "\n",
    "### Main points to address\n",
    "\n",
    "**Architecture:**\n",
    "\n",
    "The model architectures were chosen to reduce the input size and the number of parameters involved through convolution and pooling layers. However, there are plenty of possibilities regarding architecture (number of layers, size of filters, number of filters, ...) and only a variation in the number of filters was examined.\n",
    "\n",
    "An exhaustive assessment of the performance of all the possible models would be too costly but some hyperparameter tuning in this concern will need to be carried out. Some heuristics regarding CNN architecture would also help in the process.\n",
    "\n",
    "**Hyperparameters:**\n",
    "\n",
    "Many other hyperparameters have yet to be evaluated: learning rate, optimization algorithm, training epochs or batch size for example.\n",
    "\n",
    "**What metric should we use to evaluate the models?**\n",
    "* **Problems**:\n",
    "    * For each classifier, data will be skewed (approximately 25% will be positives)\n",
    "    * We do not have at the moment a limit on the False Positive Rate: *how many (negative) cases can we allow to be classified with the disease?*\n",
    "    * We do not have at the moment a limit on the False Negative Rate: *how many (positive, with disease) cases can we allow to be classified as not having that disease?*\n",
    "    * Maybe it is better to have a false positive than a false negative?\n",
    "- Precision, recall and F1-Score depend on threshold we set\n",
    "- It might be interesting to calculate other metrics such as the ROC AUC, which does not depend on the threshold\n",
    "\n",
    "***"
   ]
  }
 ],
 "metadata": {
  "kernelspec": {
   "display_name": "Python 3",
   "language": "python",
   "name": "python3"
  },
  "language_info": {
   "codemirror_mode": {
    "name": "ipython",
    "version": 3
   },
   "file_extension": ".py",
   "mimetype": "text/x-python",
   "name": "python",
   "nbconvert_exporter": "python",
   "pygments_lexer": "ipython3",
   "version": "3.6.8"
  }
 },
 "nbformat": 4,
 "nbformat_minor": 2
}
