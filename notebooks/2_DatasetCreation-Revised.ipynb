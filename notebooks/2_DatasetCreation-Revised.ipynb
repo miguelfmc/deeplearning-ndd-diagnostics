{
 "cells": [
  {
   "cell_type": "markdown",
   "metadata": {},
   "source": [
    "# Creating training and testing dataset of neurodegenerative disease data\n",
    "In this notebook, a numpy dataset will be built from the files previously processed in the last notebook. Each example or data point will consist of a spectrogram of the gait (which is essentially a matrix) signal and a label indicating the disease to which the spectrogram corresponds"
   ]
  },
  {
   "cell_type": "code",
   "execution_count": 1,
   "metadata": {},
   "outputs": [],
   "source": [
    "import os\n",
    "import numpy as np\n",
    "import matplotlib.pyplot as plt\n",
    "import re"
   ]
  },
  {
   "cell_type": "markdown",
   "metadata": {},
   "source": [
    "Now the training and test set will be built. One patient (the entire ten segments corresponding to them) from each of the four disease cases will make up the test set.\n",
    "\n",
    "Besides the first segment of each record will be discarded, since in most cases the signal does not start until later."
   ]
  },
  {
   "cell_type": "code",
   "execution_count": 2,
   "metadata": {},
   "outputs": [
    {
     "name": "stdout",
     "output_type": "stream",
     "text": [
      "ALS patient for test set: 11\n",
      "Huntington's patient for test set: 4\n",
      "Parkinson's patient for test set: 9\n",
      "Control subject for test set: 9\n"
     ]
    }
   ],
   "source": [
    "np.random.seed(3)\n",
    "\n",
    "als_test = np.random.randint(1, 14)\n",
    "control_test = np.random.randint(1, 17)\n",
    "hunt_test = np.random.randint(1, 21)\n",
    "park_test = np.random.randint(1, 16)\n",
    "\n",
    "print('ALS patient for test set:', als_test)\n",
    "print('Huntington\\'s patient for test set:', hunt_test)\n",
    "print('Parkinson\\'s patient for test set:', park_test)\n",
    "print('Control subject for test set:', control_test)"
   ]
  },
  {
   "cell_type": "code",
   "execution_count": 3,
   "metadata": {},
   "outputs": [],
   "source": [
    "# create a blacklist to discard some weird records\n",
    "blacklist = ['als12_let_' + str(i+1) + '.npz' for i in range(10)]\n",
    "blacklist.extend(['als12_rit_' + str(i+1) + '.npz' for i in range(10)])\n",
    "blacklist.append('als1_let_10.npz')\n",
    "blacklist.append('als1_rit_10.npz')\n",
    "blacklist.append('als4_let_8.npz')\n",
    "blacklist.append('als4_let_4.npz')\n",
    "blacklist.append('als4_let_9.npz')"
   ]
  },
  {
   "cell_type": "code",
   "execution_count": 4,
   "metadata": {},
   "outputs": [
    {
     "data": {
      "text/plain": [
       "['als12_let_1.npz',\n",
       " 'als12_let_2.npz',\n",
       " 'als12_let_3.npz',\n",
       " 'als12_let_4.npz',\n",
       " 'als12_let_5.npz',\n",
       " 'als12_let_6.npz',\n",
       " 'als12_let_7.npz',\n",
       " 'als12_let_8.npz',\n",
       " 'als12_let_9.npz',\n",
       " 'als12_let_10.npz',\n",
       " 'als12_rit_1.npz',\n",
       " 'als12_rit_2.npz',\n",
       " 'als12_rit_3.npz',\n",
       " 'als12_rit_4.npz',\n",
       " 'als12_rit_5.npz',\n",
       " 'als12_rit_6.npz',\n",
       " 'als12_rit_7.npz',\n",
       " 'als12_rit_8.npz',\n",
       " 'als12_rit_9.npz',\n",
       " 'als12_rit_10.npz',\n",
       " 'als1_let_10.npz',\n",
       " 'als1_rit_10.npz',\n",
       " 'als4_let_8.npz',\n",
       " 'als4_let_4.npz',\n",
       " 'als4_let_9.npz']"
      ]
     },
     "execution_count": 4,
     "metadata": {},
     "output_type": "execute_result"
    }
   ],
   "source": [
    "blacklist"
   ]
  },
  {
   "cell_type": "code",
   "execution_count": 5,
   "metadata": {},
   "outputs": [],
   "source": [
    "test_filenames = ['als'+str(als_test),\n",
    "                 'hunt'+str(hunt_test),\n",
    "                 'control'+str(control_test),\n",
    "                 'park'+str(park_test)]\n",
    "\n",
    "classes = {\n",
    "    'control': 0,\n",
    "    'als': 1,\n",
    "    'hunt': 2,\n",
    "    'park': 3}\n",
    "\n",
    "test_spectrograms = []\n",
    "test_labels = []\n",
    "train_spectrograms = []\n",
    "train_labels = []\n",
    "\n",
    "rootdir = os.pardir\n",
    "in_dir = os.path.join(rootdir, 'data/interim/spectrograms')\n",
    "\n",
    "for in_filename in os.listdir(in_dir):\n",
    "    if (not in_filename.endswith('1.npz')) and (in_filename not in blacklist):\n",
    "        record_name = in_filename.split('_')[0]\n",
    "        if record_name in test_filenames:\n",
    "            # load npz file\n",
    "            data = np.load(os.path.join(in_dir, in_filename))\n",
    "            # load spectrogram and flip it\n",
    "            Sxx = data['Sxx']\n",
    "            Sxx = np.flip(Sxx, 0)\n",
    "            # append it to list\n",
    "            test_spectrograms.append(Sxx)\n",
    "            disease_match = re.match(r'[a-z]+', record_name)\n",
    "            disease = disease_match[0]\n",
    "            label = classes[disease]\n",
    "            test_labels.append(label)\n",
    "        else:\n",
    "            # load npz file\n",
    "            data = np.load(os.path.join(in_dir, in_filename))\n",
    "            # load spectrogram and flip it\n",
    "            Sxx = data['Sxx']\n",
    "            Sxx = np.flip(Sxx, 0)\n",
    "            # append it to list\n",
    "            train_spectrograms.append(Sxx)\n",
    "            disease_match = re.match(r'[a-z]+', record_name)\n",
    "            disease = disease_match[0]\n",
    "            label = classes[disease]\n",
    "            train_labels.append(label)\n",
    "\n",
    "X_test = np.asarray(test_spectrograms)\n",
    "Y_test = np.asarray(test_labels)\n",
    "Y_test = Y_test.reshape((Y_test.shape[0], 1))\n",
    "\n",
    "X_train = np.asarray(train_spectrograms)\n",
    "Y_train = np.asarray(train_labels)\n",
    "Y_train = Y_train.reshape((Y_train.shape[0], 1))"
   ]
  },
  {
   "cell_type": "code",
   "execution_count": 6,
   "metadata": {},
   "outputs": [
    {
     "data": {
      "text/plain": [
       "(72, 11, 34)"
      ]
     },
     "execution_count": 6,
     "metadata": {},
     "output_type": "execute_result"
    }
   ],
   "source": [
    "X_test.shape"
   ]
  },
  {
   "cell_type": "code",
   "execution_count": 7,
   "metadata": {},
   "outputs": [
    {
     "data": {
      "text/plain": [
       "(1042, 11, 34)"
      ]
     },
     "execution_count": 7,
     "metadata": {},
     "output_type": "execute_result"
    }
   ],
   "source": [
    "X_train.shape"
   ]
  },
  {
   "cell_type": "code",
   "execution_count": 17,
   "metadata": {},
   "outputs": [
    {
     "name": "stdout",
     "output_type": "stream",
     "text": [
      "This is a Huntington's disease spectrogram\n"
     ]
    },
    {
     "data": {
      "image/png": "[encoded data removed]",
      "text/plain": [
       "<Figure size 1152x864 with 1 Axes>"
      ]
     },
     "metadata": {
      "needs_background": "light"
     },
     "output_type": "display_data"
    }
   ],
   "source": [
    "# let's try visualizing the training data once more\n",
    "diseases_dict = {\n",
    "    0: 'Control subject',\n",
    "    1: 'ALS',\n",
    "    2: 'Huntington\\'s disease',\n",
    "    3: 'Parkinson\\'s disease'}\n",
    "\n",
    "example = np.random.randint(0, Y_train.shape[0])\n",
    "label = Y_train[example][0]\n",
    "disease = diseases_dict[label]\n",
    "\n",
    "fig, ax = plt.subplots(1, 1, figsize=(16, 12))\n",
    "ax.imshow(X_train[example,:,:], interpolation='none')\n",
    "print('This is a {0} spectrogram'.format(disease))"
   ]
  },
  {
   "cell_type": "code",
   "execution_count": 18,
   "metadata": {},
   "outputs": [],
   "source": [
    "out_dir = os.path.join(rootdir, 'data/processed')\n",
    "\n",
    "np.savez(os.path.join(out_dir, 'train.npz'), X_train = X_train, Y_train = Y_train)\n",
    "np.savez(os.path.join(out_dir, 'test.npz'), X_test = X_test, Y_test = Y_test)"
   ]
  }
 ],
 "metadata": {
  "kernelspec": {
   "display_name": "Python 3",
   "language": "python",
   "name": "python3"
  },
  "language_info": {
   "codemirror_mode": {
    "name": "ipython",
    "version": 3
   },
   "file_extension": ".py",
   "mimetype": "text/x-python",
   "name": "python",
   "nbconvert_exporter": "python",
   "pygments_lexer": "ipython3",
   "version": "3.6.7"
  }
 },
 "nbformat": 4,
 "nbformat_minor": 2
}
