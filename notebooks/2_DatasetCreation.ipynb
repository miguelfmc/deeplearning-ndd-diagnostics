{
 "cells": [
  {
   "cell_type": "markdown",
   "metadata": {},
   "source": [
    "# Creating training and testing dataset of neurodegenerative disease data\n",
    "In this notebook, a numpy dataset will be built from the files previously processed in the last notebook. Each example or data point will consist of a spectrogram of the gait (which is essentially a matrix) signal and a label indicating the disease to which the spectrogram corresponds"
   ]
  },
  {
   "cell_type": "code",
   "execution_count": 10,
   "metadata": {},
   "outputs": [],
   "source": [
    "import os\n",
    "import numpy as np\n",
    "import matplotlib.pyplot as plt\n",
    "import re"
   ]
  },
  {
   "cell_type": "markdown",
   "metadata": {},
   "source": [
    "Now the training and test set will be built. One patient (the entire ten segments corresponding to them) from each of the four disease cases will make up the test set.\n",
    "\n",
    "Besides the first segment of each record will be discarded, since in most cases the signal does not start until later."
   ]
  },
  {
   "cell_type": "code",
   "execution_count": 107,
   "metadata": {},
   "outputs": [
    {
     "name": "stdout",
     "output_type": "stream",
     "text": [
      "ALS patient for test set: 6\n",
      "Huntington's patient for test set: 13\n",
      "Parkinson's patient for test set: 9\n",
      "Control subject for test set: 12\n"
     ]
    }
   ],
   "source": [
    "np.random.seed(1)\n",
    "\n",
    "als_test = np.random.randint(1, 13)\n",
    "control_test = np.random.randint(1, 16)\n",
    "hunt_test = np.random.randint(1, 20)\n",
    "park_test = np.random.randint(1, 15)\n",
    "\n",
    "print('ALS patient for test set:', als_test)\n",
    "print('Huntington\\'s patient for test set:', hunt_test)\n",
    "print('Parkinson\\'s patient for test set:', park_test)\n",
    "print('Control subject for test set:', control_test)"
   ]
  },
  {
   "cell_type": "code",
   "execution_count": 119,
   "metadata": {},
   "outputs": [],
   "source": [
    "test_filenames = ['als'+str(als_test),\n",
    "                 'hunt'+str(hunt_test),\n",
    "                 'control'+str(control_test),\n",
    "                 'park'+str(park_test)]\n",
    "\n",
    "classes = {\n",
    "    'control': 0,\n",
    "    'als': 1,\n",
    "    'hunt': 2,\n",
    "    'park': 3}\n",
    "\n",
    "test_spectrograms = []\n",
    "test_labels = []\n",
    "train_spectrograms = []\n",
    "train_labels = []\n",
    "\n",
    "rootdir = os.pardir\n",
    "in_dir = os.path.join(rootdir, 'data/interim/spectrograms')\n",
    "\n",
    "for in_filename in os.listdir(in_dir):\n",
    "    if not in_filename.endswith('1.npz'):\n",
    "        record_name = in_filename.split('_')[0]\n",
    "        if record_name in test_filenames:\n",
    "            # load npz file\n",
    "            data = np.load(os.path.join(in_dir, in_filename))\n",
    "            # load spectrogram and flip it\n",
    "            Sxx = data['Sxx']\n",
    "            Sxx = np.flip(Sxx, 0)\n",
    "            # append it to list\n",
    "            test_spectrograms.append(Sxx)\n",
    "            disease_match = re.match(r'[a-z]+', record_name)\n",
    "            disease = disease_match[0]\n",
    "            label = classes[disease]\n",
    "            test_labels.append(label)\n",
    "        else:\n",
    "            # load npz file\n",
    "            data = np.load(os.path.join(in_dir, in_filename))\n",
    "            # load spectrogram and flip it\n",
    "            Sxx = data['Sxx']\n",
    "            Sxx = np.flip(Sxx, 0)\n",
    "            # append it to list\n",
    "            train_spectrograms.append(Sxx)\n",
    "            disease_match = re.match(r'[a-z]+', record_name)\n",
    "            disease = disease_match[0]\n",
    "            label = classes[disease]\n",
    "            train_labels.append(label)\n",
    "\n",
    "X_test = np.asarray(test_spectrograms)\n",
    "Y_test = np.asarray(test_labels)\n",
    "Y_test = Y_test.reshape((Y_test.shape[0], 1))\n",
    "\n",
    "X_train = np.asarray(train_spectrograms)\n",
    "Y_train = np.asarray(train_labels)\n",
    "Y_train = Y_train.reshape((Y_train.shape[0], 1))"
   ]
  },
  {
   "cell_type": "code",
   "execution_count": 128,
   "metadata": {},
   "outputs": [
    {
     "name": "stdout",
     "output_type": "stream",
     "text": [
      "This is a Huntington's disease spectrogram\n"
     ]
    },
    {
     "data": {
      "image/png": "[encoded data removed]",
      "text/plain": [
       "<Figure size 1152x864 with 1 Axes>"
      ]
     },
     "metadata": {
      "needs_background": "light"
     },
     "output_type": "display_data"
    }
   ],
   "source": [
    "# let's try visualizing the training data once more\n",
    "diseases_dict = {\n",
    "    0: 'Control subject',\n",
    "    1: 'ALS',\n",
    "    2: 'Huntington\\'s disease',\n",
    "    3: 'Parkinson\\'s disease'}\n",
    "\n",
    "example = np.random.randint(0, Y_train.shape[0]-1)\n",
    "label = Y_train[example][0]\n",
    "disease = diseases_dict[label]\n",
    "\n",
    "fig, ax = plt.subplots(1, 1, figsize=(16, 12))\n",
    "ax.imshow(X_train[example,:,:], interpolation='none')\n",
    "print('This is a {0} spectrogram'.format(disease))"
   ]
  },
  {
   "cell_type": "code",
   "execution_count": null,
   "metadata": {},
   "outputs": [],
   "source": []
  }
 ],
 "metadata": {
  "kernelspec": {
   "display_name": "Python 3",
   "language": "python",
   "name": "python3"
  },
  "language_info": {
   "codemirror_mode": {
    "name": "ipython",
    "version": 3
   },
   "file_extension": ".py",
   "mimetype": "text/x-python",
   "name": "python",
   "nbconvert_exporter": "python",
   "pygments_lexer": "ipython3",
   "version": "3.6.7"
  }
 },
 "nbformat": 4,
 "nbformat_minor": 2
}
