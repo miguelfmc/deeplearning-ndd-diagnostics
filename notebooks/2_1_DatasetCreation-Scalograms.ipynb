{
 "cells": [
  {
   "cell_type": "markdown",
   "metadata": {},
   "source": [
    "# Dataset with scalograms"
   ]
  },
  {
   "cell_type": "code",
   "execution_count": 19,
   "metadata": {},
   "outputs": [],
   "source": [
    "import os\n",
    "import numpy as np\n",
    "import matplotlib.pyplot as plt\n",
    "import re"
   ]
  },
  {
   "cell_type": "markdown",
   "metadata": {},
   "source": [
    "Now the training and test set will be built. One patient (that is, all of the segments corresponding to one patient) from each of the four disease cases will make up the test set."
   ]
  },
  {
   "cell_type": "code",
   "execution_count": 31,
   "metadata": {},
   "outputs": [
    {
     "name": "stdout",
     "output_type": "stream",
     "text": [
      "ALS patient for test set: 11\n",
      "Huntington's patient for test set: 4\n",
      "Parkinson's patient for test set: 9\n",
      "Control subject for test set: 9\n"
     ]
    }
   ],
   "source": [
    "np.random.seed(3)\n",
    "\n",
    "als_test = np.random.randint(1, 14)\n",
    "control_test = np.random.randint(1, 17)\n",
    "hunt_test = np.random.randint(1, 21)\n",
    "park_test = np.random.randint(1, 16)\n",
    "\n",
    "print('ALS patient for test set:', als_test)\n",
    "print('Huntington\\'s patient for test set:', hunt_test)\n",
    "print('Parkinson\\'s patient for test set:', park_test)\n",
    "print('Control subject for test set:', control_test)"
   ]
  },
  {
   "cell_type": "code",
   "execution_count": 5,
   "metadata": {},
   "outputs": [],
   "source": [
    "test_filenames = ['als'+str(als_test),\n",
    "                 'hunt'+str(hunt_test),\n",
    "                 'control'+str(control_test),\n",
    "                 'park'+str(park_test)]\n",
    "\n",
    "classes = {\n",
    "    'control': 0,\n",
    "    'als': 1,\n",
    "    'hunt': 2,\n",
    "    'park': 3}\n",
    "\n",
    "test_scalograms = []\n",
    "test_labels = []\n",
    "train_scalograms = []\n",
    "train_labels = []\n",
    "test_info = []\n",
    "train_info = []\n",
    "\n",
    "rootdir = os.pardir\n",
    "in_dir = os.path.join(rootdir, 'data/interim/scalograms')\n",
    "\n",
    "for in_filename in os.listdir(in_dir):\n",
    "    record_name = in_filename.split('_')[0]\n",
    "    # load npy file\n",
    "    scalogram = np.load(os.path.join(in_dir, in_filename))\n",
    "    # get label from record name\n",
    "    disease_match = re.match(r'[a-z]+', record_name)\n",
    "    disease = disease_match[0]\n",
    "    label = classes[disease]\n",
    "    # get segment name\n",
    "    segment_name = in_filename[:-4]\n",
    "    \n",
    "    if record_name in test_filenames:\n",
    "        test_scalograms.append(scalogram)\n",
    "        test_labels.append(label)\n",
    "        test_info.append(segment_name)\n",
    "    \n",
    "    else:\n",
    "        train_scalograms.append(scalogram)\n",
    "        train_labels.append(label)\n",
    "        train_info.append(segment_name)\n",
    "\n",
    "X_test = np.asarray(test_scalograms)\n",
    "Y_test = np.asarray(test_labels)\n",
    "Y_test = Y_test.reshape((Y_test.shape[0], 1))\n",
    "Z_test = np.asarray(test_info)\n",
    "Z_test = Z_test.reshape((Z_test.shape[0], 1))\n",
    "\n",
    "X_train = np.asarray(train_scalograms)\n",
    "Y_train = np.asarray(train_labels)\n",
    "Y_train = Y_train.reshape((Y_train.shape[0], 1))\n",
    "Z_train = np.asarray(train_info)\n",
    "Z_train = Z_train.reshape((Z_train.shape[0], 1))"
   ]
  },
  {
   "cell_type": "code",
   "execution_count": 6,
   "metadata": {},
   "outputs": [
    {
     "name": "stdout",
     "output_type": "stream",
     "text": [
      "Shape of X_test: (72, 100, 100)\n",
      "Shape of X_train: (1032, 100, 100)\n",
      "Shape of Y_test: (72, 1)\n",
      "Shape of Y_train: (1032, 1)\n",
      "Shape of Z_test: (72, 1)\n",
      "Shape of Z_train: (1032, 1)\n"
     ]
    }
   ],
   "source": [
    "print(f'Shape of X_test: {X_test.shape}')\n",
    "print(f'Shape of X_train: {X_train.shape}')\n",
    "\n",
    "print(f'Shape of Y_test: {Y_test.shape}')\n",
    "print(f'Shape of Y_train: {Y_train.shape}')\n",
    "\n",
    "print(f'Shape of Z_test: {Z_test.shape}')\n",
    "print(f'Shape of Z_train: {Z_train.shape}')"
   ]
  },
  {
   "cell_type": "code",
   "execution_count": 7,
   "metadata": {},
   "outputs": [],
   "source": [
    "out_dir = os.path.join(rootdir, 'data', 'processed', 'scalograms-dataset')\n",
    "\n",
    "np.savez(os.path.join(out_dir, 'train-dev.npz'), X_train = X_train, Y_train = Y_train, Z_train = Z_train)\n",
    "np.savez(os.path.join(out_dir, 'test.npz'), X_test = X_test, Y_test = Y_test, Z_test = Z_test)"
   ]
  }
 ],
 "metadata": {
  "kernelspec": {
   "display_name": "Python 3",
   "language": "python",
   "name": "python3"
  },
  "language_info": {
   "codemirror_mode": {
    "name": "ipython",
    "version": 3
   },
   "file_extension": ".py",
   "mimetype": "text/x-python",
   "name": "python",
   "nbconvert_exporter": "python",
   "pygments_lexer": "ipython3",
   "version": "3.6.8"
  }
 },
 "nbformat": 4,
 "nbformat_minor": 2
}
